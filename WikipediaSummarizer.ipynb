{
 "cells": [
  {
   "cell_type": "code",
   "execution_count": 1,
   "id": "06294a81-82f5-43b7-8562-9d1f114e9284",
   "metadata": {},
   "outputs": [
    {
     "name": "stdin",
     "output_type": "stream",
     "text": [
      "Enter your search query:  nba\n"
     ]
    },
    {
     "name": "stdout",
     "output_type": "stream",
     "text": [
      "Title: National Basketball Association\n",
      "Summary : \n",
      " The league was founded in New York City on June 6, 1946, as the Basketball Association of America (BAA). In 1976, the NBA and the American Basketball Association (ABA) merged, adding four franchises to the NBA. The NBA's regular season runs from October to April, with each team playing 82 games. The league's playoff tournament extends into June, culminating with the NBA Finals championship series. As of 2020, NBA players are the world's best paid athletes by average annual salary per player. The NBA is an active member of USA Basketball (USAB), which is recognized by the FIBA (International Basketball Federation) as the national governing body for basketball in the United States. The league's several international as well as individual team offices are directed out of its head offices in Midtown Manhattan, while its NBA Entertainment and NBA TV studios are directed out of offices located in Secaucus, New Jersey. In North America, the NBA is the third wealthiest professional sports lea\n",
      "End Of Summary\n"
     ]
    }
   ],
   "source": [
    "import wikipedia\n",
    "\n",
    "# Search for a page\n",
    "search_query = input(\"Enter your search query: \")\n",
    "search_results = wikipedia.search(search_query)\n",
    "\n",
    "if not search_results:\n",
    "    print(\"No results found.\")\n",
    "else:\n",
    "    # Select the first search result\n",
    "    page_title = search_results[0]\n",
    "    \n",
    "    # Load the page\n",
    "    page = wikipedia.page(page_title)\n",
    "    \n",
    "    # Print the entire page text\n",
    "    print(\"Title:\", page.title)\n",
    "\n",
    "# importing libraries \n",
    "import nltk \n",
    "from nltk.corpus import stopwords \n",
    "from nltk.tokenize import word_tokenize, sent_tokenize \n",
    "print(\"Summary : \")\n",
    "# Input text - to summarize \n",
    "text = page.content\n",
    "# Tokenizing the text \n",
    "stopWords = set(stopwords.words(\"english\")) \n",
    "words = word_tokenize(text) \n",
    "\n",
    "# Creating a frequency table to keep the \n",
    "# score of each word \n",
    "\n",
    "freqTable = dict() \n",
    "for word in words: \n",
    "\tword = word.lower() \n",
    "\tif word in stopWords: \n",
    "\t\tcontinue\n",
    "\tif word in freqTable: \n",
    "\t\tfreqTable[word] += 1\n",
    "\telse: \n",
    "\t\tfreqTable[word] = 1\n",
    "\n",
    "# Creating a dictionary to keep the score \n",
    "# of each sentence \n",
    "sentences = sent_tokenize(text) \n",
    "sentenceValue = dict() \n",
    "\n",
    "for sentence in sentences: \n",
    "\tfor word, freq in freqTable.items(): \n",
    "\t\tif word in sentence.lower(): \n",
    "\t\t\tif sentence in sentenceValue: \n",
    "\t\t\t\tsentenceValue[sentence] += freq \n",
    "\t\t\telse: \n",
    "\t\t\t\tsentenceValue[sentence] = freq \n",
    "\n",
    "\n",
    "\n",
    "sumValues = 0\n",
    "for sentence in sentenceValue: \n",
    "\tsumValues += sentenceValue[sentence] \n",
    "\n",
    "# Average value of a sentence from the original text \n",
    "\n",
    "average = int(sumValues / len(sentenceValue)) \n",
    "\n",
    "# Storing sentences into our summary. \n",
    "summary = '' \n",
    "for sentence in sentences: \n",
    "\tif (sentence in sentenceValue) and (sentenceValue[sentence] > (1.2 * average)): \n",
    "\t\tsummary += \" \" + sentence \n",
    "print(summary[:1000]) #to adjust the length of summary\n",
    "print(\"End Of Summary\")\n"
   ]
  },
  {
   "cell_type": "code",
   "execution_count": null,
   "id": "bac03934-3585-495b-a539-00bbbed3a49d",
   "metadata": {},
   "outputs": [],
   "source": []
  }
 ],
 "metadata": {
  "kernelspec": {
   "display_name": "Python 3 (ipykernel)",
   "language": "python",
   "name": "python3"
  },
  "language_info": {
   "codemirror_mode": {
    "name": "ipython",
    "version": 3
   },
   "file_extension": ".py",
   "mimetype": "text/x-python",
   "name": "python",
   "nbconvert_exporter": "python",
   "pygments_lexer": "ipython3",
   "version": "3.12.2"
  }
 },
 "nbformat": 4,
 "nbformat_minor": 5
}
